{
  "nbformat": 4,
  "nbformat_minor": 0,
  "metadata": {
    
    "kernelspec": {
      "name": "python3",
      "display_name": "Python 3"
    },
    "language_info": {
      "name": "python"
    }
  },
  "cells": [
    {
      "cell_type": "markdown",
      "metadata": {
        "id": "view-in-github",
        "colab_type": "text"
      },
      "source": [
        "<a href=\"https://colab.research.google.com/gist/MateuszCzz/afc29fdca891ea324e10fbc0af67c3e2/osuphoenix-io.ipynb\" target=\"_parent\"><img src=\"https://colab.research.google.com/assets/colab-badge.svg\" alt=\"Open In Colab\"/></a>"
      ]
    },
    {
      "cell_type": "markdown",
      "source": [
        "ReadMe:<br>\n",
        "\n",
        "\n",
        "> if running first time:\n",
        ">> go from top to bottom\n",
        ">> except skip the loadings\n",
        "\n",
        "> if not: \n",
        ">> always run step 0 and then prociede from the right load \n",
        " \n",
        ":) gl \n",
        "function for json editor:\n",
        "<br>\n",
        "function query(data) {\n",
        "  return _.chain(data)\n",
        "    .map(obj => {\n",
        "      if (obj.length >= 9) {\n",
        "        return obj[2];\n",
        "      } else if (obj.length >= 8) {\n",
        "        return obj[1];\n",
        "      } else {\n",
        "        return null;\n",
        "      }\n",
        "    })\n",
        "    .compact()\n",
        "    .uniq()\n",
        "    .value();\n",
        "}\n",
        "\n",
        "<br> https://www.convertjson.com/html-table-to-json.htm\n",
        "<br> https://jsoneditoronline.org/#right=local.qekilo&left=local.vuciri\n"
      ],
      "metadata": {
        "id": "XgwaU2vgW1Or"
      }
    },
    {
      "cell_type": "markdown",
      "source": [
        "# Step 0:\n",
        "## imports, config"
      ],
      "metadata": {
        "id": "MkgLFiEe4t7D"
      }
    },
    {
      "cell_type": "code",
      "source": [
        "!pip install ossapi\n",
        "import csv\n",
        "import os\n",
        "import pickle\n",
        "import re\n",
        "from collections import defaultdict\n",
        "from google.colab import drive, files, output\n",
        "from ossapi import Ossapi\n",
        "from prettytable import PrettyTable\n",
        "import operator\n",
        "import statistics\n",
        "\n",
        "\n",
        "# Mount your Google Drive\n",
        "drive.mount('/content/drive')\n",
        "\n",
        "#clean\n",
        "output.clear()\n",
        "\n",
        "#configuration\n",
        "min_pp = 150 #nickname scores will take half of this\n",
        "nickname = \"Reset_676\"\n",
        "nickname_rank = 7799195\n",
        "\n",
        "## PUT IN YOUR OWN\n",
        "api_number = 123\n",
        "api_key = \"###\"\n",
        "api = Ossapi(api_number, api_key)\n",
        "mode_chosen = \"osu\"\n",
        "ranking_type = \"performance\"\n",
        "bot_cap = 165000\n",
        "top_cap = 235000\n",
        "\n",
        "# Countries in top 50 except us\n",
        "country_codes = [\n",
        "                 \"PL\", \"DE\", \"CA\", \"PH\", \"JP\", \"FR\", \"BR\", \"GB\", \"ID\", \"AU\", \"TW\", \"CL\", \"MY\",\n",
        "                 \"KR\", \"UA\", \"CN\", \"MX\", \"IT\", \"HK\", \"FI\", \"ES\", \"NL\", \"SE\", \"TR\", \"CZ\", \"RO\",\n",
        "                 \"PT\", \"NO\", \"AT\", \"CO\", \"HU\", \"KZ\", \"BE\", \"BY\", \"NZ\", \"LT\", \"DK\", \"IN\", \"GR\" \n",
        "                ]\n",
        "\n",
        "# Functions for later\n",
        "def filter_scores(user_ids, api, min_pp):\n",
        "    osu_mode_scores = []\n",
        "    counter = 0 \n",
        "    for user_id in user_ids:\n",
        "        if(counter%100==0):\n",
        "          print(counter)\n",
        "        counter+=1\n",
        "        user_scores = api.user_scores(user_id, \"best\", limit=150, mode=mode_chosen)\n",
        "        user_scores = [score for score in user_scores if score.pp >= min_pp and score.mode.value == mode_chosen]\n",
        "        osu_mode_scores.extend(user_scores)\n",
        "    return osu_mode_scores"
      ],
      "metadata": {
        "id": "CdkvQQ2U4m3-"
      },
      "execution_count": null,
      "outputs": []
    },
    {
      "cell_type": "markdown",
      "source": [
        "# Step 1.1: \n",
        "## get IDs of players"
      ],
      "metadata": {
        "id": "aFsck1eoTydw"
      }
    },
    {
      "cell_type": "code",
      "source": [
        "# Variable to hold the end result\n",
        "all_ids = []\n",
        "\n",
        "# Loop through countries\n",
        "for country_code in country_codes:\n",
        "    cursor = None\n",
        "    # Keep requesting until no more left\n",
        "    while True:\n",
        "        response = api.ranking(mode=mode_chosen, type=ranking_type,\n",
        "                               country=country_code, cursor=cursor)\n",
        "        # Add the new rankings\n",
        "        all_ids += response.ranking\n",
        "        cursor = response.cursor\n",
        "        if cursor is None:\n",
        "            break\n",
        "    print(f\"Completed: {country_code} requests\")\n",
        "\n",
        "# Print the number of rankings received\n",
        "print(f\"Received {len(all_ids)} rankings\")"
      ],
      "metadata": {
        "id": "pWfVF3ZjTwJA"
      },
      "execution_count": null,
      "outputs": []
    },
    {
      "cell_type": "code",
      "source": [
        "# Filter them \n",
        "userlist = [player.user.id  for player in all_ids if bot_cap <= player.global_rank <= top_cap]\n",
        "\n",
        "# Print number after filter received\n",
        "print(f\"After Filter: {len(all_ids)} rankings\")\n",
        "\n",
        "# Split the filtered_rankings\n",
        "num_users = len(userlist)\n",
        "part_size = num_users // 10\n",
        "user_ids_part1 = userlist[:part_size]\n",
        "user_ids_part2 = userlist[part_size:2*part_size]\n",
        "user_ids_part3 = userlist[2*part_size:3*part_size]\n",
        "user_ids_part4 = userlist[3*part_size:4*part_size]\n",
        "user_ids_part5 = userlist[4*part_size:5*part_size]\n",
        "user_ids_part6 = userlist[5*part_size:6*part_size]\n",
        "user_ids_part7 = userlist[6*part_size:7*part_size]\n",
        "user_ids_part8 = userlist[7*part_size:8*part_size]\n",
        "user_ids_part9 = userlist[8*part_size:9*part_size]\n",
        "user_ids_part10 = userlist[9*part_size:]"
      ],
      "metadata": {
        "id": "P2y29H9xt5-R"
      },
      "execution_count": 5,
      "outputs": []
    },
    {
      "cell_type": "markdown",
      "source": [
        "# Step 1.2:\n",
        "  save the data for future use"
      ],
      "metadata": {
        "id": "9XGuGWb3WYol"
      }
    },
    {
      "cell_type": "code",
      "source": [
        "# Save to Google Drive\n",
        "with open('/content/drive/MyDrive/user_ids.pkl', 'wb') as f:\n",
        "    pickle.dump((user_ids_part1, user_ids_part2, user_ids_part3, user_ids_part4, user_ids_part5, user_ids_part6, user_ids_part7, user_ids_part8, user_ids_part9, user_ids_part10), f)"
      ],
      "metadata": {
        "id": "YoyAEILBWhnu"
      },
      "execution_count": null,
      "outputs": []
    },
    {
      "cell_type": "markdown",
      "source": [
        "# Step 1.3:\n",
        "  load the data from earlier "
      ],
      "metadata": {
        "id": "sjwxxerNWqlv"
      }
    },
    {
      "cell_type": "code",
      "source": [
        "# Load from the Google Drive\n",
        "with open('/content/drive/MyDrive/user_ids.pkl', 'rb') as f:\n",
        "    user_ids_part1, user_ids_part2, user_ids_part3, user_ids_part4, user_ids_part5, user_ids_part6, user_ids_part7, user_ids_part8, user_ids_part9, user_ids_part10 = pickle.load(f)"
      ],
      "metadata": {
        "id": "2kk_vrA0Wt45"
      },
      "execution_count": null,
      "outputs": []
    },
    {
      "cell_type": "markdown",
      "source": [
        "# Step 2.1:\n",
        "  first part"
      ],
      "metadata": {
        "id": "R3Hli7KC42Vi"
      }
    },
    {
      "cell_type": "code",
      "source": [
        "# Declarations for \n",
        "# Filter scores by pp and mode for each part\n",
        "osu_mode_scores_part1 = filter_scores(user_ids_part1, api, min_pp)\n",
        "osu_mode_scores_part2 = []\n",
        "osu_mode_scores_part3 = []\n",
        "osu_mode_scores_part4 = []\n",
        "osu_mode_scores_part5 = []\n",
        "osu_mode_scores_part6 = []\n",
        "osu_mode_scores_part7 = []\n",
        "osu_mode_scores_part8 = []\n",
        "osu_mode_scores_part9 = []\n",
        "osu_mode_scores_part10 = []\n",
        "\n",
        "# Save\n",
        "with open('/content/drive/MyDrive/osu_mode_scores.pkl', 'wb') as f:\n",
        "    pickle.dump((osu_mode_scores_part1, osu_mode_scores_part2, osu_mode_scores_part3, osu_mode_scores_part4, osu_mode_scores_part5, osu_mode_scores_part6, osu_mode_scores_part7, osu_mode_scores_part8, osu_mode_scores_part9, osu_mode_scores_part10), f)"
      ],
      "metadata": {
        "id": "C45F7eWk41Vs"
      },
      "execution_count": null,
      "outputs": []
    },
    {
      "cell_type": "markdown",
      "source": [
        "## Load:\n"
      ],
      "metadata": {
        "id": "YNf07M0JcNyM"
      }
    },
    {
      "cell_type": "code",
      "source": [
        "# Load user IDs if not set already\n",
        "if 'user_ids_part1' not in locals():\n",
        "    file_path = '/content/drive/MyDrive/user_ids.pkl'\n",
        "    with open(file_path, 'rb') as f:\n",
        "        user_ids_part1, user_ids_part2, user_ids_part3, user_ids_part4, user_ids_part5, user_ids_part6, user_ids_part7, user_ids_part8, user_ids_part9, user_ids_part10 = pickle.load(f)\n",
        "else:\n",
        "    print(\"ids set already!\")\n",
        "\n",
        "# Load the filtered scores from a file on Google Drive\n",
        "with open('/content/drive/MyDrive/osu_mode_scores.pkl', 'rb') as f:\n",
        "    osu_mode_scores_part1, osu_mode_scores_part2, osu_mode_scores_part3, osu_mode_scores_part4, osu_mode_scores_part5, osu_mode_scores_part6, osu_mode_scores_part7, osu_mode_scores_part8, osu_mode_scores_part9, osu_mode_scores_part10 = pickle.load(f)"
      ],
      "metadata": {
        "id": "Q82cL6WbcQF8"
      },
      "execution_count": null,
      "outputs": []
    },
    {
      "cell_type": "markdown",
      "source": [
        "# Step 2.2:"
      ],
      "metadata": {
        "id": "ILxSWNqOd4e7"
      }
    },
    {
      "cell_type": "code",
      "source": [
        "# Declarations for \n",
        "# Filter scores by pp and mode for each part\n",
        "osu_mode_scores_part2 = filter_scores(user_ids_part2, api, min_pp)\n",
        "\n",
        "# Save\n",
        "with open('/content/drive/MyDrive/osu_mode_scores.pkl', 'wb') as f:\n",
        "    pickle.dump((osu_mode_scores_part1, osu_mode_scores_part2, osu_mode_scores_part3, osu_mode_scores_part4, osu_mode_scores_part5, osu_mode_scores_part6, osu_mode_scores_part7, osu_mode_scores_part8, osu_mode_scores_part9, osu_mode_scores_part10), f)"
      ],
      "metadata": {
        "id": "7VP99D8wd7UK"
      },
      "execution_count": null,
      "outputs": []
    },
    {
      "cell_type": "markdown",
      "source": [
        "## Load:\n"
      ],
      "metadata": {
        "id": "OVQwNFDleSsO"
      }
    },
    {
      "cell_type": "code",
      "source": [
        "# Load user IDs if not set already\n",
        "if 'user_ids_part1' not in locals():\n",
        "    file_path = '/content/drive/MyDrive/user_ids.pkl'\n",
        "    with open(file_path, 'rb') as f:\n",
        "        user_ids_part1, user_ids_part2, user_ids_part3, user_ids_part4, user_ids_part5, user_ids_part6, user_ids_part7, user_ids_part8, user_ids_part9, user_ids_part10 = pickle.load(f)\n",
        "else:\n",
        "    print(\"ids set already!\")\n",
        "\n",
        "# Load the filtered scores from a file on Google Drive\n",
        "with open('/content/drive/MyDrive/osu_mode_scores.pkl', 'rb') as f:\n",
        "    osu_mode_scores_part1, osu_mode_scores_part2, osu_mode_scores_part3, osu_mode_scores_part4, osu_mode_scores_part5, osu_mode_scores_part6, osu_mode_scores_part7, osu_mode_scores_part8, osu_mode_scores_part9, osu_mode_scores_part10 = pickle.load(f)"
      ],
      "metadata": {
        "id": "5W7zkXD0eWQg"
      },
      "execution_count": null,
      "outputs": []
    },
    {
      "cell_type": "markdown",
      "source": [
        "# Step 2.3:"
      ],
      "metadata": {
        "id": "q5fViaSIebPQ"
      }
    },
    {
      "cell_type": "code",
      "source": [
        "# Declarations for \n",
        "# Filter scores by pp and mode for each part\n",
        "osu_mode_scores_part3 = filter_scores(user_ids_part3, api, min_pp)\n",
        "\n",
        "# Save\n",
        "with open('/content/drive/MyDrive/osu_mode_scores.pkl', 'wb') as f:\n",
        "    pickle.dump((osu_mode_scores_part1, osu_mode_scores_part2, osu_mode_scores_part3, osu_mode_scores_part4, osu_mode_scores_part5, osu_mode_scores_part6, osu_mode_scores_part7, osu_mode_scores_part8, osu_mode_scores_part9, osu_mode_scores_part10), f)"
      ],
      "metadata": {
        "id": "EyMS6yl0ebPS"
      },
      "execution_count": null,
      "outputs": []
    },
    {
      "cell_type": "markdown",
      "source": [
        "## Load:\n"
      ],
      "metadata": {
        "id": "PAolfmRaebPV"
      }
    },
    {
      "cell_type": "code",
      "source": [
        "# Load user IDs if not set already\n",
        "if 'user_ids_part1' not in locals():\n",
        "    file_path = '/content/drive/MyDrive/user_ids.pkl'\n",
        "    with open(file_path, 'rb') as f:\n",
        "        user_ids_part1, user_ids_part2, user_ids_part3, user_ids_part4, user_ids_part5, user_ids_part6, user_ids_part7, user_ids_part8, user_ids_part9, user_ids_part10 = pickle.load(f)\n",
        "else:\n",
        "    print(\"ids set already!\")\n",
        "\n",
        "# Load the filtered scores from a file on Google Drive\n",
        "with open('/content/drive/MyDrive/osu_mode_scores.pkl', 'rb') as f:\n",
        "    osu_mode_scores_part1, osu_mode_scores_part2, osu_mode_scores_part3, osu_mode_scores_part4, osu_mode_scores_part5, osu_mode_scores_part6, osu_mode_scores_part7, osu_mode_scores_part8, osu_mode_scores_part9, osu_mode_scores_part10 = pickle.load(f)"
      ],
      "metadata": {
        "id": "42Ugjhw7ebPX"
      },
      "execution_count": null,
      "outputs": []
    },
    {
      "cell_type": "markdown",
      "source": [
        "# Step 2.4:"
      ],
      "metadata": {
        "id": "P7paMGqFejT4"
      }
    },
    {
      "cell_type": "code",
      "source": [
        "# Declarations for \n",
        "# Filter scores by pp and mode for each part\n",
        "osu_mode_scores_part4 = filter_scores(user_ids_part4, api, min_pp)\n",
        "\n",
        "# Save\n",
        "with open('/content/drive/MyDrive/osu_mode_scores.pkl', 'wb') as f:\n",
        "    pickle.dump((osu_mode_scores_part1, osu_mode_scores_part2, osu_mode_scores_part3, osu_mode_scores_part4, osu_mode_scores_part5, osu_mode_scores_part6, osu_mode_scores_part7, osu_mode_scores_part8, osu_mode_scores_part9, osu_mode_scores_part10), f)"
      ],
      "metadata": {
        "id": "Vt0bnbxsejT5"
      },
      "execution_count": null,
      "outputs": []
    },
    {
      "cell_type": "markdown",
      "source": [
        "## Load:\n"
      ],
      "metadata": {
        "id": "SS2Qn8C2ejT8"
      }
    },
    {
      "cell_type": "code",
      "source": [
        "# Load user IDs if not set already\n",
        "if 'user_ids_part1' not in locals():\n",
        "    file_path = '/content/drive/MyDrive/user_ids.pkl'\n",
        "    with open(file_path, 'rb') as f:\n",
        "        user_ids_part1, user_ids_part2, user_ids_part3, user_ids_part4, user_ids_part5, user_ids_part6, user_ids_part7, user_ids_part8, user_ids_part9, user_ids_part10 = pickle.load(f)\n",
        "else:\n",
        "    print(\"ids set already!\")\n",
        "\n",
        "# Load the filtered scores from a file on Google Drive\n",
        "with open('/content/drive/MyDrive/osu_mode_scores.pkl', 'rb') as f:\n",
        "    osu_mode_scores_part1, osu_mode_scores_part2, osu_mode_scores_part3, osu_mode_scores_part4, osu_mode_scores_part5, osu_mode_scores_part6, osu_mode_scores_part7, osu_mode_scores_part8, osu_mode_scores_part9, osu_mode_scores_part10 = pickle.load(f)"
      ],
      "metadata": {
        "id": "OgtxR_yUejT-"
      },
      "execution_count": null,
      "outputs": []
    },
    {
      "cell_type": "markdown",
      "source": [
        "# Step 2.5:"
      ],
      "metadata": {
        "id": "KIbhSw8Qe_31"
      }
    },
    {
      "cell_type": "code",
      "source": [
        "# Declarations for \n",
        "# Filter scores by pp and mode for each part\n",
        "osu_mode_scores_part5 = filter_scores(user_ids_part5, api, min_pp)\n",
        "\n",
        "# Save\n",
        "with open('/content/drive/MyDrive/osu_mode_scores.pkl', 'wb') as f:\n",
        "    pickle.dump((osu_mode_scores_part1, osu_mode_scores_part2, osu_mode_scores_part3, osu_mode_scores_part4, osu_mode_scores_part5, osu_mode_scores_part6, osu_mode_scores_part7, osu_mode_scores_part8, osu_mode_scores_part9, osu_mode_scores_part10), f)"
      ],
      "metadata": {
        "id": "b2m8HOS3e_33"
      },
      "execution_count": null,
      "outputs": []
    },
    {
      "cell_type": "markdown",
      "source": [
        "## Load:\n"
      ],
      "metadata": {
        "id": "60cO3sNje_34"
      }
    },
    {
      "cell_type": "code",
      "source": [
        "# Load user IDs if not set already\n",
        "if 'user_ids_part1' not in locals():\n",
        "    file_path = '/content/drive/MyDrive/user_ids.pkl'\n",
        "    with open(file_path, 'rb') as f:\n",
        "        user_ids_part1, user_ids_part2, user_ids_part3, user_ids_part4, user_ids_part5, user_ids_part6, user_ids_part7, user_ids_part8, user_ids_part9, user_ids_part10 = pickle.load(f)\n",
        "else:\n",
        "    print(\"ids set already!\")\n",
        "\n",
        "# Load the filtered scores from a file on Google Drive\n",
        "with open('/content/drive/MyDrive/osu_mode_scores.pkl', 'rb') as f:\n",
        "    osu_mode_scores_part1, osu_mode_scores_part2, osu_mode_scores_part3, osu_mode_scores_part4, osu_mode_scores_part5, osu_mode_scores_part6, osu_mode_scores_part7, osu_mode_scores_part8, osu_mode_scores_part9, osu_mode_scores_part10 = pickle.load(f)"
      ],
      "metadata": {
        "id": "lSljXTJ-e_36"
      },
      "execution_count": null,
      "outputs": []
    },
    {
      "cell_type": "markdown",
      "source": [
        "# Step 2.6:"
      ],
      "metadata": {
        "id": "aNjqYlDkfGyt"
      }
    },
    {
      "cell_type": "code",
      "source": [
        "# Declarations for \n",
        "# Filter scores by pp and mode for each part\n",
        "osu_mode_scores_part6 = filter_scores(user_ids_part6, api, min_pp)\n",
        "\n",
        "# Save\n",
        "with open('/content/drive/MyDrive/osu_mode_scores.pkl', 'wb') as f:\n",
        "    pickle.dump((osu_mode_scores_part1, osu_mode_scores_part2, osu_mode_scores_part3, osu_mode_scores_part4, osu_mode_scores_part5, osu_mode_scores_part6, osu_mode_scores_part7, osu_mode_scores_part8, osu_mode_scores_part9, osu_mode_scores_part10), f)"
      ],
      "metadata": {
        "id": "JzdDjB-RfGyu"
      },
      "execution_count": null,
      "outputs": []
    },
    {
      "cell_type": "markdown",
      "source": [
        "## Load:\n"
      ],
      "metadata": {
        "id": "aM8r6CXgfGyv"
      }
    },
    {
      "cell_type": "code",
      "source": [
        "# Load user IDs if not set already\n",
        "if 'user_ids_part1' not in locals():\n",
        "    file_path = '/content/drive/MyDrive/user_ids.pkl'\n",
        "    with open(file_path, 'rb') as f:\n",
        "        user_ids_part1, user_ids_part2, user_ids_part3, user_ids_part4, user_ids_part5, user_ids_part6, user_ids_part7, user_ids_part8, user_ids_part9, user_ids_part10 = pickle.load(f)\n",
        "else:\n",
        "    print(\"ids set already!\")\n",
        "\n",
        "# Load the filtered scores from a file on Google Drive\n",
        "with open('/content/drive/MyDrive/osu_mode_scores.pkl', 'rb') as f:\n",
        "    osu_mode_scores_part1, osu_mode_scores_part2, osu_mode_scores_part3, osu_mode_scores_part4, osu_mode_scores_part5, osu_mode_scores_part6, osu_mode_scores_part7, osu_mode_scores_part8, osu_mode_scores_part9, osu_mode_scores_part10 = pickle.load(f)"
      ],
      "metadata": {
        "id": "F6eJTWbdfGyv"
      },
      "execution_count": null,
      "outputs": []
    },
    {
      "cell_type": "markdown",
      "source": [
        "# Step 2.7:"
      ],
      "metadata": {
        "id": "ca5fpTnyfLQe"
      }
    },
    {
      "cell_type": "code",
      "source": [
        "# Declarations for \n",
        "# Filter scores by pp and mode for each part\n",
        "osu_mode_scores_part7 = filter_scores(user_ids_part7, api, min_pp)\n",
        "\n",
        "# Save\n",
        "with open('/content/drive/MyDrive/osu_mode_scores.pkl', 'wb') as f:\n",
        "    pickle.dump((osu_mode_scores_part1, osu_mode_scores_part2, osu_mode_scores_part3, osu_mode_scores_part4, osu_mode_scores_part5, osu_mode_scores_part6, osu_mode_scores_part7, osu_mode_scores_part8, osu_mode_scores_part9, osu_mode_scores_part10), f)"
      ],
      "metadata": {
        "id": "aytod3KcfLQg"
      },
      "execution_count": null,
      "outputs": []
    },
    {
      "cell_type": "markdown",
      "source": [
        "## Load:\n"
      ],
      "metadata": {
        "id": "u_1ZB0mZfLQj"
      }
    },
    {
      "cell_type": "code",
      "source": [
        "# Load user IDs if not set already\n",
        "if 'user_ids_part1' not in locals():\n",
        "    file_path = '/content/drive/MyDrive/user_ids.pkl'\n",
        "    with open(file_path, 'rb') as f:\n",
        "        user_ids_part1, user_ids_part2, user_ids_part3, user_ids_part4, user_ids_part5, user_ids_part6, user_ids_part7, user_ids_part8, user_ids_part9, user_ids_part10 = pickle.load(f)\n",
        "else:\n",
        "    print(\"ids set already!\")\n",
        "\n",
        "# Load the filtered scores from a file on Google Drive\n",
        "with open('/content/drive/MyDrive/osu_mode_scores.pkl', 'rb') as f:\n",
        "    osu_mode_scores_part1, osu_mode_scores_part2, osu_mode_scores_part3, osu_mode_scores_part4, osu_mode_scores_part5, osu_mode_scores_part6, osu_mode_scores_part7, osu_mode_scores_part8, osu_mode_scores_part9, osu_mode_scores_part10 = pickle.load(f)"
      ],
      "metadata": {
        "id": "FTQK9v1HfLQl"
      },
      "execution_count": null,
      "outputs": []
    },
    {
      "cell_type": "markdown",
      "source": [
        "# Step 2.8:"
      ],
      "metadata": {
        "id": "i6bDoQH5fNrc"
      }
    },
    {
      "cell_type": "code",
      "source": [
        "# Declarations for \n",
        "# Filter scores by pp and mode for each part\n",
        "osu_mode_scores_part8 = filter_scores(user_ids_part8, api, min_pp)\n",
        "\n",
        "# Save\n",
        "with open('/content/drive/MyDrive/osu_mode_scores.pkl', 'wb') as f:\n",
        "    pickle.dump((osu_mode_scores_part1, osu_mode_scores_part2, osu_mode_scores_part3, osu_mode_scores_part4, osu_mode_scores_part5, osu_mode_scores_part6, osu_mode_scores_part7, osu_mode_scores_part8, osu_mode_scores_part9, osu_mode_scores_part10), f)"
      ],
      "metadata": {
        "id": "WcCwTygpfNrd"
      },
      "execution_count": null,
      "outputs": []
    },
    {
      "cell_type": "markdown",
      "source": [
        "## Load:\n"
      ],
      "metadata": {
        "id": "WTiRGix-fNrf"
      }
    },
    {
      "cell_type": "code",
      "source": [
        "# Load user IDs if not set already\n",
        "if 'user_ids_part1' not in locals():\n",
        "    file_path = '/content/drive/MyDrive/user_ids.pkl'\n",
        "    with open(file_path, 'rb') as f:\n",
        "        user_ids_part1, user_ids_part2, user_ids_part3, user_ids_part4, user_ids_part5, user_ids_part6, user_ids_part7, user_ids_part8, user_ids_part9, user_ids_part10 = pickle.load(f)\n",
        "else:\n",
        "    print(\"ids set already!\")\n",
        "\n",
        "# Load the filtered scores from a file on Google Drive\n",
        "with open('/content/drive/MyDrive/osu_mode_scores.pkl', 'rb') as f:\n",
        "    osu_mode_scores_part1, osu_mode_scores_part2, osu_mode_scores_part3, osu_mode_scores_part4, osu_mode_scores_part5, osu_mode_scores_part6, osu_mode_scores_part7, osu_mode_scores_part8, osu_mode_scores_part9, osu_mode_scores_part10 = pickle.load(f)"
      ],
      "metadata": {
        "id": "mrOLodK7fNrg"
      },
      "execution_count": null,
      "outputs": []
    },
    {
      "cell_type": "markdown",
      "source": [
        "# Step 2.9:"
      ],
      "metadata": {
        "id": "QlBKTje4fRIC"
      }
    },
    {
      "cell_type": "code",
      "source": [
        "# Declarations for \n",
        "# Filter scores by pp and mode for each part\n",
        "osu_mode_scores_part9 = filter_scores(user_ids_part9, api, min_pp)\n",
        "\n",
        "# Save\n",
        "with open('/content/drive/MyDrive/osu_mode_scores.pkl', 'wb') as f:\n",
        "    pickle.dump((osu_mode_scores_part1, osu_mode_scores_part2, osu_mode_scores_part3, osu_mode_scores_part4, osu_mode_scores_part5, osu_mode_scores_part6, osu_mode_scores_part7, osu_mode_scores_part8, osu_mode_scores_part9, osu_mode_scores_part10), f)"
      ],
      "metadata": {
        "id": "0mYyMSM8fRIC"
      },
      "execution_count": null,
      "outputs": []
    },
    {
      "cell_type": "markdown",
      "source": [
        "## Load:\n"
      ],
      "metadata": {
        "id": "P_fo8bZEfRID"
      }
    },
    {
      "cell_type": "code",
      "source": [
        "# Load user IDs if not set already\n",
        "if 'user_ids_part1' not in locals():\n",
        "    file_path = '/content/drive/MyDrive/user_ids.pkl'\n",
        "    with open(file_path, 'rb') as f:\n",
        "        user_ids_part1, user_ids_part2, user_ids_part3, user_ids_part4, user_ids_part5, user_ids_part6, user_ids_part7, user_ids_part8, user_ids_part9, user_ids_part10 = pickle.load(f)\n",
        "else:\n",
        "    print(\"ids set already!\")\n",
        "\n",
        "# Load the filtered scores from a file on Google Drive\n",
        "with open('/content/drive/MyDrive/osu_mode_scores.pkl', 'rb') as f:\n",
        "    osu_mode_scores_part1, osu_mode_scores_part2, osu_mode_scores_part3, osu_mode_scores_part4, osu_mode_scores_part5, osu_mode_scores_part6, osu_mode_scores_part7, osu_mode_scores_part8, osu_mode_scores_part9, osu_mode_scores_part10 = pickle.load(f)"
      ],
      "metadata": {
        "id": "_ERZE1VofRIE"
      },
      "execution_count": null,
      "outputs": []
    },
    {
      "cell_type": "markdown",
      "source": [
        "# Step 2.10:"
      ],
      "metadata": {
        "id": "yoG0smu4fUtS"
      }
    },
    {
      "cell_type": "code",
      "source": [
        "# Declarations for \n",
        "# Filter scores by pp and mode for each part\n",
        "osu_mode_scores_part10 = filter_scores(user_ids_part10, api, min_pp)\n",
        "\n",
        "# Save\n",
        "with open('/content/drive/MyDrive/osu_mode_scores.pkl', 'wb') as f:\n",
        "    pickle.dump((osu_mode_scores_part1, osu_mode_scores_part2, osu_mode_scores_part3, osu_mode_scores_part4, osu_mode_scores_part5, osu_mode_scores_part6, osu_mode_scores_part7, osu_mode_scores_part8, osu_mode_scores_part9, osu_mode_scores_part10), f)"
      ],
      "metadata": {
        "id": "cqplUKyIfUtT"
      },
      "execution_count": null,
      "outputs": []
    },
    {
      "cell_type": "markdown",
      "source": [
        "## Load:\n"
      ],
      "metadata": {
        "id": "YgeBhFPFfUtT"
      }
    },
    {
      "cell_type": "code",
      "source": [
        "# Load user IDs if not set already\n",
        "if 'user_ids_part1' not in locals():\n",
        "    file_path = '/content/drive/MyDrive/user_ids.pkl'\n",
        "    with open(file_path, 'rb') as f:\n",
        "        user_ids_part1, user_ids_part2, user_ids_part3, user_ids_part4, user_ids_part5, user_ids_part6, user_ids_part7, user_ids_part8, user_ids_part9, user_ids_part10 = pickle.load(f)\n",
        "else:\n",
        "    print(\"ids set already!\")\n",
        "\n",
        "# Load the filtered scores from a file on Google Drive\n",
        "with open('/content/drive/MyDrive/osu_mode_scores.pkl', 'rb') as f:\n",
        "    osu_mode_scores_part1, osu_mode_scores_part2, osu_mode_scores_part3, osu_mode_scores_part4, osu_mode_scores_part5, osu_mode_scores_part6, osu_mode_scores_part7, osu_mode_scores_part8, osu_mode_scores_part9, osu_mode_scores_part10 = pickle.load(f)"
      ],
      "metadata": {
        "id": "2iPHlF25fUtU"
      },
      "execution_count": null,
      "outputs": []
    },
    {
      "cell_type": "markdown",
      "source": [
        "# Step 2.11 \n",
        "Integration"
      ],
      "metadata": {
        "id": "UWxpHcTJ5FHv"
      }
    },
    {
      "cell_type": "code",
      "source": [
        "# Combine scores from all parts\n",
        "scores = []\n",
        "scores.extend(osu_mode_scores_part1)\n",
        "scores.extend(osu_mode_scores_part2)\n",
        "scores.extend(osu_mode_scores_part3)\n",
        "scores.extend(osu_mode_scores_part4)\n",
        "scores.extend(osu_mode_scores_part5)\n",
        "scores.extend(osu_mode_scores_part6)\n",
        "scores.extend(osu_mode_scores_part7)\n",
        "scores.extend(osu_mode_scores_part8)\n",
        "scores.extend(osu_mode_scores_part9)\n",
        "scores.extend(osu_mode_scores_part10)"
      ],
      "metadata": {
        "id": "ODvojj_GPJhj"
      },
      "execution_count": null,
      "outputs": []
    },
    {
      "cell_type": "markdown",
      "source": [
        "# Step 3:\n",
        "User"
      ],
      "metadata": {
        "id": "rDcNAu5xgLis"
      }
    },
    {
      "cell_type": "code",
      "source": [
        "# Setting up the user\n",
        "nicknameScores =  api.user_scores(nickname_rank, \"best\", limit=500, mode=\"osu\")\n",
        "nicknameScores = [score for score in nicknameScores if score.pp >= min_pp/2]"
      ],
      "metadata": {
        "id": "wDQzYVJ_gN_M"
      },
      "execution_count": null,
      "outputs": []
    },
    {
      "cell_type": "markdown",
      "source": [
        "# Step 4:\n",
        "Data formation"
      ],
      "metadata": {
        "id": "xnU3680W5LrE"
      }
    },
    {
      "cell_type": "code",
      "source": [
        "# Group by beatmap, mods\n",
        "scores_by_beatmap_mods = defaultdict(list)\n",
        "for score in scores:\n",
        "    beatmap_mods_str = str(score.beatmap.id) + '\\t' + str(score.mods)\n",
        "    scores_by_beatmap_mods[beatmap_mods_str].append(score)\n",
        "\n",
        "# Calc: num of scores, avg pp, avg combo, avg acc, avg fc\n",
        "beatmap_stats = {}\n",
        "for beatmap_mods_str, beatmap_scores in scores_by_beatmap_mods.items():\n",
        "    beatmap_id, mods = beatmap_mods_str.split('\\t')\n",
        "    beatmap_name = beatmap_scores[0].beatmapset.title\n",
        "    beatmap_creator = beatmap_scores[0].beatmapset.creator\n",
        "    beatmap_link = \"https://osu.ppy.sh/beatmaps/\" + str(beatmap_id)\n",
        "    num_scores = len(beatmap_scores)\n",
        "    num_perfect_scores = sum(score.perfect for score in beatmap_scores)\n",
        "    total_pp = sum(score.pp for score in beatmap_scores)\n",
        "    avg_pp = total_pp / num_scores if num_scores > 0 else 0\n",
        "    total_max_combo = sum(score.max_combo for score in beatmap_scores)\n",
        "    avg_max_combo = total_max_combo / num_scores if num_scores > 0 else 0\n",
        "    total_accuracy = sum(score.accuracy for score in beatmap_scores)\n",
        "    avg_accuracy = total_accuracy / num_scores if num_scores > 0 else 0\n",
        "    hit_length = beatmap_scores[0].beatmap.hit_length\n",
        "    percentage_perfect = num_perfect_scores / num_scores * 100 if num_scores > 0 else 0\n",
        "    beatmap_stats[beatmap_mods_str] = {'beatmap_name': beatmap_name,\n",
        "                                       'beatmap_link': beatmap_link,\n",
        "                                       'num_scores': num_scores,\n",
        "                                       'num_perfect_scores': num_perfect_scores,\n",
        "                                       'percentage_perfect': percentage_perfect,\n",
        "                                       'avg_pp': avg_pp,\n",
        "                                       'avg_max_combo': avg_max_combo,\n",
        "                                       'avg_accuracy': avg_accuracy,\n",
        "                                       'length': hit_length,\n",
        "                                       'mods': mods,\n",
        "                                       'beatmap_creator': beatmap_creator}\n"
      ],
      "metadata": {
        "id": "NuoYvnjW2tTd"
      },
      "execution_count": null,
      "outputs": []
    },
    {
      "cell_type": "markdown",
      "source": [
        "# Step 5:\n",
        "tables"
      ],
      "metadata": {
        "id": "yb0MProKhVvF"
      }
    },
    {
      "cell_type": "markdown",
      "source": [
        "# table for farming"
      ],
      "metadata": {
        "id": "HN3Z3JPplx1J"
      }
    },
    {
      "cell_type": "code",
      "source": [
        "#config\n",
        "a = 0.1 # factor of pp \n",
        "b = 1   # factor of number of scores \n",
        "\n",
        "# Print the data using prettytables\n",
        "# table = PrettyTable(border=False)\n",
        "table = PrettyTable()\n",
        "table.field_names = [\"Beatmap Name\", \"Beatmap Creator\", \"Mods\",\"length\", \"Avg PP\", \"Avg Combo\", \"Avg Acc\", \"Number of Scores\", \"FC %\", \"Link\", \"Score\"]\n",
        "\n",
        "# sort by decreasing value of (a*pp + b*occurrences)\n",
        "key_func = lambda x: -(a * x[1]['avg_pp'] + b * x[1]['num_scores'])\n",
        "\n",
        "for beatmap_key, beatmap_data in sorted(beatmap_stats.items(), key=key_func):\n",
        "    # extract the beatmap id and mods string from the key\n",
        "    beatmap_id, mods_str = beatmap_key.split(\"\\t\")\n",
        "    mods = mods_str.split(\",\")\n",
        "    \n",
        "    beatmap_name = beatmap_data['beatmap_name']\n",
        "    beatmap_creator = beatmap_data['beatmap_creator']\n",
        "    num_scores = beatmap_data['num_scores']\n",
        "    length = beatmap_data['length']\n",
        "    avg_pp = beatmap_data['avg_pp']\n",
        "    avg_max_combo = beatmap_data['avg_max_combo']\n",
        "    avg_accuracy = beatmap_data['avg_accuracy']\n",
        "    percentage_perfect = beatmap_data['percentage_perfect']\n",
        "    score = a * avg_pp + b * num_scores\n",
        "    link = beatmap_data['beatmap_link']\n",
        "    table.add_row([beatmap_name, beatmap_creator, \", \".join(mods),length, round(avg_pp, 2), round(avg_max_combo, 2), round(avg_accuracy, 2), num_scores, f\"{round(percentage_perfect, 2)}%\", link, round(score, 2)])\n",
        "\n",
        "table.align[\"Beatmap Name\"] = \"l\"\n",
        "table.align[\"Beatmap Creator\"] = \"l\"\n",
        "table.align[\"Mods\"] = \"m\"\n",
        "print(table)\n"
      ],
      "metadata": {
        "id": "v7nV4T22WhCs"
      },
      "execution_count": null,
      "outputs": []
    },
    {
      "cell_type": "code",
      "source": [
        "output_name = \"table.txt\"\n",
        "# Replace 3 or more spaces in a row with a comma\n",
        "table_txt =  table.get_string()\n",
        "# Export table to CSV\n",
        "with open(output_name, 'w') as file:\n",
        "    file.write(table_txt)\n",
        "# Download CSV file\n",
        "files.download(output_name)\n"
      ],
      "metadata": {
        "colab": {
          "base_uri": "https://localhost:8080/",
          "height": 17
        },
        "id": "ODxJStee-Q6y",
        "outputId": "df429656-576b-4b99-f840-5c91224fc9fd"
      },
      "execution_count": null,
      "outputs": [
        {
          "output_type": "display_data",
          "data": {
            "text/plain": [
              "<IPython.core.display.Javascript object>"
            ],
            "application/javascript": [
              "\n",
              "    async function download(id, filename, size) {\n",
              "      if (!google.colab.kernel.accessAllowed) {\n",
              "        return;\n",
              "      }\n",
              "      const div = document.createElement('div');\n",
              "      const label = document.createElement('label');\n",
              "      label.textContent = `Downloading \"${filename}\": `;\n",
              "      div.appendChild(label);\n",
              "      const progress = document.createElement('progress');\n",
              "      progress.max = size;\n",
              "      div.appendChild(progress);\n",
              "      document.body.appendChild(div);\n",
              "\n",
              "      const buffers = [];\n",
              "      let downloaded = 0;\n",
              "\n",
              "      const channel = await google.colab.kernel.comms.open(id);\n",
              "      // Send a message to notify the kernel that we're ready.\n",
              "      channel.send({})\n",
              "\n",
              "      for await (const message of channel.messages) {\n",
              "        // Send a message to notify the kernel that we're ready.\n",
              "        channel.send({})\n",
              "        if (message.buffers) {\n",
              "          for (const buffer of message.buffers) {\n",
              "            buffers.push(buffer);\n",
              "            downloaded += buffer.byteLength;\n",
              "            progress.value = downloaded;\n",
              "          }\n",
              "        }\n",
              "      }\n",
              "      const blob = new Blob(buffers, {type: 'application/binary'});\n",
              "      const a = document.createElement('a');\n",
              "      a.href = window.URL.createObjectURL(blob);\n",
              "      a.download = filename;\n",
              "      div.appendChild(a);\n",
              "      a.click();\n",
              "      div.remove();\n",
              "    }\n",
              "  "
            ]
          },
          "metadata": {}
        },
        {
          "output_type": "display_data",
          "data": {
            "text/plain": [
              "<IPython.core.display.Javascript object>"
            ],
            "application/javascript": [
              "download(\"download_b996a72b-4837-4d3d-b268-78e40bde7815\", \"table.txt\", 731879)"
            ]
          },
          "metadata": {}
        }
      ]
    },
    {
      "cell_type": "markdown",
      "source": [
        "# table wit user"
      ],
      "metadata": {
        "id": "k8ZkQiXnl2Gw"
      }
    },
    {
      "cell_type": "code",
      "source": [
        "# Filter parameters\n",
        "min_occurrence = 1\n",
        "min_max_combo = 1\n",
        "min_score_difference = -2000  # Minimum allowed score difference in pp\n",
        "max_score_difference =  2000  # Maximum allowed score difference in pp    \n",
        "\n",
        "# Print the data using prettytables\n",
        "table = PrettyTable()\n",
        "table.field_names = [\"Beatmap Name\", \"Creator\", \"Length\", \"Mods\", nickname + \"'s PP\", \"Avg PP\", \"Avg Max Combo\", \"Avg Acc\", \"FC %\", \"Number of Scores\", \"Link\", \"Score Difference\"]\n",
        "\n",
        "for beatmap_id, beatmap_data in beatmap_stats.items():\n",
        "    num_scores = beatmap_data['num_scores']\n",
        "    avg_pp = beatmap_data['avg_pp']\n",
        "    avg_max_combo = beatmap_data['avg_max_combo']\n",
        "    avg_accuracy = beatmap_data['avg_accuracy']\n",
        "    perfect_percentage = beatmap_data['percentage_perfect']\n",
        "    beatmap_name = beatmap_data['beatmap_name']\n",
        "    link = beatmap_data['beatmap_link']\n",
        "    creator = beatmap_data['beatmap_creator']\n",
        "    length = beatmap_data['length']\n",
        "    mods = beatmap_data['mods']\n",
        "\n",
        "    # Check if the beatmap meets the filter criteria\n",
        "    if num_scores < min_occurrence or avg_max_combo < min_max_combo:\n",
        "        continue\n",
        "\n",
        "    # Check if the beatmap is in the user's scores\n",
        "    user_score = next((score for score in nicknameScores if (str(score.beatmap.id) + '\\t' + str(score.mods)) == beatmap_id), None)\n",
        "    if user_score is None:\n",
        "        nickname_pp = 0\n",
        "    else:\n",
        "        nickname_pp = user_score.pp\n",
        "    if nickname_pp == 0:\n",
        "        score_difference = 0\n",
        "    else:\n",
        "        score_difference = nickname_pp - avg_pp\n",
        "\n",
        "    # Check if the score difference is within the allowed range\n",
        "    if (score_difference) < (min_score_difference) or (score_difference) > (max_score_difference):\n",
        "        continue\n",
        "\n",
        "    table.add_row([beatmap_name, creator, length, mods, nickname_pp, round(avg_pp, 2), round(avg_max_combo, 2), round(avg_accuracy, 2), format(round(perfect_percentage, 2), \".2f\") + \"%\", num_scores, link, format(round(score_difference, 2), \".2f\")+ \" pp\"])\n",
        "\n",
        "# Set the alignment of the first column to left\n",
        "table.align[\"Beatmap Name\"] = \"l\"\n",
        "table.align[\"Link\"] = \"l\"\n",
        "table.align[\"Score Difference\"] = \"r\"\n",
        "\n",
        "# Print the table\n",
        "print(table.get_string(sortby=\"Number of Scores\", reversesort=True))\n"
      ],
      "metadata": {
        "id": "9EfjJsSgWhJu"
      },
      "execution_count": null,
      "outputs": []
    },
    {
      "cell_type": "code",
      "source": [
        "output_name = 'table of '+ nickname + '.txt'\n",
        "\n",
        "# Replace 3 or more spaces in a row with a comma\n",
        "table_txt =  table.get_string()\n",
        "# Export table to CSV\n",
        "with open(output_name, 'w') as file:\n",
        "    file.write(table_txt)\n",
        "# Download CSV file\n",
        "files.download(output_name)\n"
      ],
      "metadata": {
        "colab": {
          "base_uri": "https://localhost:8080/",
          "height": 17
        },
        "id": "cePFqDxC-WBS",
        "outputId": "791080a5-c12c-4baf-e55e-1328765c0175"
      },
      "execution_count": null,
      "outputs": [
        {
          "output_type": "display_data",
          "data": {
            "text/plain": [
              "<IPython.core.display.Javascript object>"
            ],
            "application/javascript": [
              "\n",
              "    async function download(id, filename, size) {\n",
              "      if (!google.colab.kernel.accessAllowed) {\n",
              "        return;\n",
              "      }\n",
              "      const div = document.createElement('div');\n",
              "      const label = document.createElement('label');\n",
              "      label.textContent = `Downloading \"${filename}\": `;\n",
              "      div.appendChild(label);\n",
              "      const progress = document.createElement('progress');\n",
              "      progress.max = size;\n",
              "      div.appendChild(progress);\n",
              "      document.body.appendChild(div);\n",
              "\n",
              "      const buffers = [];\n",
              "      let downloaded = 0;\n",
              "\n",
              "      const channel = await google.colab.kernel.comms.open(id);\n",
              "      // Send a message to notify the kernel that we're ready.\n",
              "      channel.send({})\n",
              "\n",
              "      for await (const message of channel.messages) {\n",
              "        // Send a message to notify the kernel that we're ready.\n",
              "        channel.send({})\n",
              "        if (message.buffers) {\n",
              "          for (const buffer of message.buffers) {\n",
              "            buffers.push(buffer);\n",
              "            downloaded += buffer.byteLength;\n",
              "            progress.value = downloaded;\n",
              "          }\n",
              "        }\n",
              "      }\n",
              "      const blob = new Blob(buffers, {type: 'application/binary'});\n",
              "      const a = document.createElement('a');\n",
              "      a.href = window.URL.createObjectURL(blob);\n",
              "      a.download = filename;\n",
              "      div.appendChild(a);\n",
              "      a.click();\n",
              "      div.remove();\n",
              "    }\n",
              "  "
            ]
          },
          "metadata": {}
        },
        {
          "output_type": "display_data",
          "data": {
            "text/plain": [
              "<IPython.core.display.Javascript object>"
            ],
            "application/javascript": [
              "download(\"download_e2792df6-2cfa-4067-a177-34c836e243d7\", \"table of Reset_676.txt\", 834599)"
            ]
          },
          "metadata": {}
        }
      ]
    }
  ]
}
